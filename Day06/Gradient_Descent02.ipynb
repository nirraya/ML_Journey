{
 "cells": [
  {
   "cell_type": "markdown",
   "metadata": {
    "id": "5U4ZpfL7Qi8x"
   },
   "source": [
    "## It's **Nir Bahadur Raya.** It's March 25, 2023. Today, I learned about Gradient Descent. I calculated the intercept and slope value using gradient descent algorithm. I also learned about the effects of learning rate in the cost function."
   ]
  },
  {
   "cell_type": "code",
   "execution_count": 1,
   "metadata": {
    "id": "BTMUTU_ib-06"
   },
   "outputs": [],
   "source": [
    "import numpy as np\n",
    "import matplotlib.pyplot as plt\n",
    "from sklearn.datasets import make_regression"
   ]
  },
  {
   "cell_type": "code",
   "execution_count": 2,
   "metadata": {
    "id": "fOjEnLQWca9W"
   },
   "outputs": [],
   "source": [
    "X,y=make_regression(n_samples=100, n_features=1, n_informative=1, n_targets=1, noise=20, random_state=17)"
   ]
  },
  {
   "cell_type": "code",
   "execution_count": 3,
   "metadata": {
    "colab": {
     "base_uri": "https://localhost:8080/",
     "height": 282
    },
    "id": "DAp98LYUcpsA",
    "outputId": "15afad78-ec25-432c-b2e9-5f868c772843"
   },
   "outputs": [
    {
     "data": {
      "text/plain": [
       "<matplotlib.collections.PathCollection at 0x174e7bdefe0>"
      ]
     },
     "execution_count": 3,
     "metadata": {},
     "output_type": "execute_result"
    },
    {
     "data": {
      "image/png": "[encoded data removed]",
      "text/plain": [
       "<Figure size 640x480 with 1 Axes>"
      ]
     },
     "metadata": {},
     "output_type": "display_data"
    }
   ],
   "source": [
    "plt.scatter(X,y)"
   ]
  },
  {
   "cell_type": "code",
   "execution_count": 4,
   "metadata": {
    "id": "D81WFvm_8twD"
   },
   "outputs": [],
   "source": [
    "from sklearn.model_selection import train_test_split\n",
    "X_train,X_test,y_train,y_test=train_test_split(X,y,test_size=0.2,random_state=2)"
   ]
  },
  {
   "cell_type": "code",
   "execution_count": 5,
   "metadata": {
    "id": "Mf1QWTcycsZv"
   },
   "outputs": [],
   "source": [
    "from sklearn.linear_model import LinearRegression"
   ]
  },
  {
   "cell_type": "code",
   "execution_count": 6,
   "metadata": {
    "id": "LNnJqZB8dDRF"
   },
   "outputs": [],
   "source": [
    "lr=LinearRegression()"
   ]
  },
  {
   "cell_type": "code",
   "execution_count": 7,
   "metadata": {
    "colab": {
     "base_uri": "https://localhost:8080/"
    },
    "id": "2c7f-PKwdF1F",
    "outputId": "1ecc859f-a5b1-4c42-e51a-18642d19aeda"
   },
   "outputs": [
    {
     "name": "stdout",
     "output_type": "stream",
     "text": [
      "[94.44308673]\n",
      "-2.308082305420438\n"
     ]
    }
   ],
   "source": [
    "lr.fit(X_train,y_train)\n",
    "print(lr.coef_)\n",
    "print(lr.intercept_)"
   ]
  },
  {
   "cell_type": "code",
   "execution_count": 8,
   "metadata": {
    "id": "G0RxqllMR6fT"
   },
   "outputs": [],
   "source": [
    "y_pred=lr.predict(X_test)"
   ]
  },
  {
   "cell_type": "code",
   "execution_count": 9,
   "metadata": {
    "colab": {
     "base_uri": "https://localhost:8080/"
    },
    "id": "M-BvmBDs9SSH",
    "outputId": "b5660461-5bf2-4940-e591-684ba2c32f89"
   },
   "outputs": [
    {
     "data": {
      "text/plain": [
       "0.9024668445154947"
      ]
     },
     "execution_count": 9,
     "metadata": {},
     "output_type": "execute_result"
    }
   ],
   "source": [
    "from sklearn.metrics import r2_score\n",
    "r2_score(y_test,y_pred)"
   ]
  },
  {
   "cell_type": "code",
   "execution_count": 10,
   "metadata": {
    "id": "OUPYwV_LdZsN"
   },
   "outputs": [],
   "source": [
    "class GDRegressor:\n",
    "\n",
    "    def __init__(self,learning_rate,epochs):\n",
    "        self.m=100\n",
    "        self.b=-100\n",
    "        self.lr=learning_rate \n",
    "        self.epochs=epochs\n",
    "    \n",
    "    def fit(self,X,y):\n",
    "        for i in range(self.epochs):\n",
    "            #using formula\n",
    "            loss_slope_b=-2*np.sum(y-self.m*X.ravel()-self.b)\n",
    "            loss_slope_m=-2*np.sum((y-self.m*X.ravel()-self.b)*X.ravel())\n",
    "\n",
    "            #updating simultaneously\n",
    "            self.b=self.b-(self.lr*loss_slope_b)\n",
    "            self.m=self.m-(self.lr*loss_slope_m)\n",
    "        print(self.m,self.b)\n",
    "\n",
    "    def predict(self,X):\n",
    "        return self.m*X + self.b\n"
   ]
  },
  {
   "cell_type": "code",
   "execution_count": 11,
   "metadata": {
    "id": "opnVkXj8eyyy"
   },
   "outputs": [],
   "source": [
    "gd=GDRegressor(0.001,80) # 0.001, 80\n",
    "                        #94.44314971842314 -2.3082646414166934"
   ]
  },
  {
   "cell_type": "code",
   "execution_count": 12,
   "metadata": {
    "colab": {
     "base_uri": "https://localhost:8080/"
    },
    "id": "IbRVC1GDfqLG",
    "outputId": "970562e2-fa64-46fa-9095-f623fd520a0b"
   },
   "outputs": [
    {
     "name": "stdout",
     "output_type": "stream",
     "text": [
      "94.44314971842314 -2.3082646414166934\n"
     ]
    }
   ],
   "source": [
    "gd.fit(X_train,y_train)   #eutai values ma ghumi rakho vaney decrease learning rate and increase epochs"
   ]
  },
  {
   "cell_type": "code",
   "execution_count": 13,
   "metadata": {
    "colab": {
     "base_uri": "https://localhost:8080/"
    },
    "id": "5QoYSYQs7sEy",
    "outputId": "f32227cc-473b-4ef4-a32a-9ac9facb0ffb"
   },
   "outputs": [
    {
     "data": {
      "text/plain": [
       "0.9024663474554833"
      ]
     },
     "execution_count": 13,
     "metadata": {},
     "output_type": "execute_result"
    }
   ],
   "source": [
    "y_pred=gd.predict(X_test)\n",
    "r2_score(y_test,y_pred)"
   ]
  }
 ],
 "metadata": {
  "colab": {
   "provenance": []
  },
  "kernelspec": {
   "display_name": "Python 3 (ipykernel)",
   "language": "python",
   "name": "python3"
  },
  "language_info": {
   "codemirror_mode": {
    "name": "ipython",
    "version": 3
   },
   "file_extension": ".py",
   "mimetype": "text/x-python",
   "name": "python",
   "nbconvert_exporter": "python",
   "pygments_lexer": "ipython3",
   "version": "3.10.5"
  }
 },
 "nbformat": 4,
 "nbformat_minor": 1
}
